{
  "nbformat": 4,
  "nbformat_minor": 0,
  "metadata": {
    "colab": {
      "name": "Speech_model_training.ipynb",
      "provenance": [],
      "toc_visible": true
    },
    "kernelspec": {
      "name": "python3",
      "display_name": "Python 3"
    },
    "language_info": {
      "name": "python"
    },
    "accelerator": "GPU"
  },
  "cells": [
    {
      "cell_type": "code",
      "execution_count": null,
      "metadata": {
        "id": "G9Ed3I_mReyb"
      },
      "outputs": [],
      "source": [
        ""
      ]
    },
    {
      "cell_type": "code",
      "source": [
        "from google.colab import drive\n",
        "drive.mount('/content/drive')"
      ],
      "metadata": {
        "colab": {
          "base_uri": "https://localhost:8080/"
        },
        "id": "z3RwrWPFRiH8",
        "outputId": "f67733fa-f88c-49ec-d44f-5797c0d1af96"
      },
      "execution_count": null,
      "outputs": [
        {
          "output_type": "stream",
          "name": "stdout",
          "text": [
            "Mounted at /content/drive\n"
          ]
        }
      ]
    },
    {
      "cell_type": "code",
      "source": [
        "%cd /content/drive/MyDrive/"
      ],
      "metadata": {
        "colab": {
          "base_uri": "https://localhost:8080/"
        },
        "id": "2oxOoHuSRtSa",
        "outputId": "4534ca80-0d60-415e-d9a1-871304dbfb84"
      },
      "execution_count": null,
      "outputs": [
        {
          "output_type": "stream",
          "name": "stdout",
          "text": [
            "/content/drive/MyDrive\n"
          ]
        }
      ]
    },
    {
      "cell_type": "code",
      "source": [
        "from os import listdir\n",
        "from os.path import isdir, join\n",
        "from tensorflow.keras import layers, models\n",
        "import numpy as np"
      ],
      "metadata": {
        "id": "8b8Zj_ToR0AA"
      },
      "execution_count": null,
      "outputs": []
    },
    {
      "cell_type": "code",
      "source": [
        "all_targets = ['seven', 'eight', 'tree', 'no', 'off', 'four', 'right', 'happy', 'one', 'marvin', 'bird', 'wow', 'stop', 'dog', 'up', 'two', 'on', 'backward', 'nine', 'go', 'zero', 'three', 'six', 'left', 'learn', 'five', 'follow', 'sheila', 'house', 'bed', 'visual', 'cat', 'forward', 'down', 'yes']"
      ],
      "metadata": {
        "id": "Iyb-TFGOSCvt"
      },
      "execution_count": null,
      "outputs": []
    },
    {
      "cell_type": "code",
      "source": [
        "feature_sets_path = './'\n",
        "feature_sets_filename = 'all_targets_mfcc_sets.npz'\n",
        "model_filename = 'speech_model.h5'"
      ],
      "metadata": {
        "id": "Zm_cGhckSFsc"
      },
      "execution_count": null,
      "outputs": []
    },
    {
      "cell_type": "code",
      "source": [
        "# Load feature sets\n",
        "feature_sets = np.load(join(feature_sets_path, feature_sets_filename))\n",
        "print(feature_sets.files)"
      ],
      "metadata": {
        "colab": {
          "base_uri": "https://localhost:8080/"
        },
        "id": "g0qzwu6zSHgI",
        "outputId": "850738bc-74aa-4324-ae53-dee384e47bad"
      },
      "execution_count": null,
      "outputs": [
        {
          "output_type": "stream",
          "name": "stdout",
          "text": [
            "['x_train', 'y_train', 'x_val', 'y_val', 'x_test', 'y_test']\n"
          ]
        }
      ]
    },
    {
      "cell_type": "code",
      "source": [
        "# Assign feature sets\n",
        "x_train = feature_sets['x_train']\n",
        "y_train = feature_sets['y_train']\n",
        "x_val = feature_sets['x_val']\n",
        "y_val = feature_sets['y_val']\n",
        "x_test = feature_sets['x_test']\n",
        "y_test = feature_sets['y_test']"
      ],
      "metadata": {
        "id": "KVbhie-JSLhI"
      },
      "execution_count": null,
      "outputs": []
    },
    {
      "cell_type": "code",
      "source": [
        "# Look at tensor dimensions\n",
        "print(x_train.shape)\n",
        "print(x_val.shape)\n",
        "print(x_test.shape)"
      ],
      "metadata": {
        "colab": {
          "base_uri": "https://localhost:8080/"
        },
        "id": "WIMzF5b_SOGZ",
        "outputId": "46754a7c-9195-4dea-a20d-4e85a684c1ff"
      },
      "execution_count": null,
      "outputs": [
        {
          "output_type": "stream",
          "name": "stdout",
          "text": [
            "(77548, 16, 16)\n",
            "(9659, 16, 16)\n",
            "(9649, 16, 16)\n"
          ]
        }
      ]
    },
    {
      "cell_type": "code",
      "source": [
        "# Peek at labels\n",
        "print(y_val)"
      ],
      "metadata": {
        "colab": {
          "base_uri": "https://localhost:8080/"
        },
        "id": "PHTEEXGuSPp-",
        "outputId": "39b44d21-e86a-4e2f-d8b1-cafae24bac46"
      },
      "execution_count": null,
      "outputs": [
        {
          "output_type": "stream",
          "name": "stdout",
          "text": [
            "[16. 34. 15. ... 15. 22.  6.]\n"
          ]
        }
      ]
    },
    {
      "cell_type": "code",
      "source": [
        "right_word_index = all_targets.index('right')\n",
        "left_word_index = all_targets.index('left')\n",
        "forward_word_index = all_targets.index('forward')\n",
        "backward_word_index = all_targets.index('backward')\n",
        "stop_word_index = all_targets.index('stop')\n",
        "mask_right = y_train==right_word_index\n",
        "mask_left = y_train==left_word_index\n",
        "mask_forward = y_train==forward_word_index\n",
        "mask_backward = y_train==backward_word_index\n",
        "mask_stop = y_train==stop_word_index"
      ],
      "metadata": {
        "id": "kshwZBAFSSd4"
      },
      "execution_count": null,
      "outputs": []
    },
    {
      "cell_type": "code",
      "source": [
        "y_train.fill(0)\n",
        "y_train[mask_right]=1\n",
        "y_train[mask_left]=2\n",
        "y_train[mask_forward]=3\n",
        "y_train[mask_backward]=4\n",
        "y_train[mask_stop]=5"
      ],
      "metadata": {
        "id": "RqRK3kpTSSbV"
      },
      "execution_count": null,
      "outputs": []
    },
    {
      "cell_type": "code",
      "source": [
        "mask_right = y_val==right_word_index\n",
        "mask_left = y_val==left_word_index\n",
        "mask_forward = y_val==forward_word_index\n",
        "mask_backward = y_val==backward_word_index\n",
        "mask_stop = y_val==stop_word_index"
      ],
      "metadata": {
        "id": "Gl8kGmZvSSX8"
      },
      "execution_count": null,
      "outputs": []
    },
    {
      "cell_type": "code",
      "source": [
        "y_val.fill(0)\n",
        "y_val[mask_right]=1\n",
        "y_val[mask_left]=2\n",
        "y_val[mask_forward]=3\n",
        "y_val[mask_backward]=4\n",
        "y_val[mask_stop]=5"
      ],
      "metadata": {
        "id": "ydJBJPfNSSVE"
      },
      "execution_count": null,
      "outputs": []
    },
    {
      "cell_type": "code",
      "source": [
        "mask_right = y_test==right_word_index\n",
        "mask_left = y_test==left_word_index\n",
        "mask_forward = y_test==forward_word_index\n",
        "mask_backward = y_test==backward_word_index\n",
        "mask_stop = y_test==stop_word_index"
      ],
      "metadata": {
        "id": "P40Yc1bZSSR_"
      },
      "execution_count": null,
      "outputs": []
    },
    {
      "cell_type": "code",
      "source": [
        "y_test.fill(0)\n",
        "y_test[mask_right]=1\n",
        "y_test[mask_left]=2\n",
        "y_test[mask_forward]=3\n",
        "y_test[mask_backward]=4\n",
        "y_test[mask_stop]=5"
      ],
      "metadata": {
        "id": "pw6kv1PFSSNS"
      },
      "execution_count": null,
      "outputs": []
    },
    {
      "cell_type": "code",
      "source": [
        "y_train=y_train.reshape(-1,1)\n",
        "y_val=y_val.reshape(-1,1)\n",
        "y_test=y_test.reshape(-1,1)"
      ],
      "metadata": {
        "id": "jk7GR_k9TfmF"
      },
      "execution_count": null,
      "outputs": []
    },
    {
      "cell_type": "code",
      "source": [
        "# Peek at labels after conversion\n",
        "print(y_val)"
      ],
      "metadata": {
        "colab": {
          "base_uri": "https://localhost:8080/"
        },
        "id": "nITkp1xhSR5N",
        "outputId": "26784d21-147b-439a-e11c-a9d6ab757c29"
      },
      "execution_count": null,
      "outputs": [
        {
          "output_type": "stream",
          "name": "stdout",
          "text": [
            "[[0.]\n",
            " [0.]\n",
            " [0.]\n",
            " ...\n",
            " [0.]\n",
            " [0.]\n",
            " [1.]]\n"
          ]
        }
      ]
    },
    {
      "cell_type": "code",
      "source": [
        "# View the dimensions of our input data\n",
        "print(x_train.shape)"
      ],
      "metadata": {
        "colab": {
          "base_uri": "https://localhost:8080/"
        },
        "id": "5a9GFmbaSRjk",
        "outputId": "e13a5848-f722-4005-bfc6-3e2496a461c3"
      },
      "execution_count": null,
      "outputs": [
        {
          "output_type": "stream",
          "name": "stdout",
          "text": [
            "(77548, 16, 16, 1)\n"
          ]
        }
      ]
    },
    {
      "cell_type": "code",
      "source": [
        "# CNN for TF expects (batch, height, width, channels)\n",
        "# So we reshape the input tensors with a \"color\" channel of 1\n",
        "x_train = x_train.reshape(x_train.shape[0], \n",
        "                          x_train.shape[1], \n",
        "                          x_train.shape[2], \n",
        "                          1)\n",
        "x_val = x_val.reshape(x_val.shape[0], \n",
        "                      x_val.shape[1], \n",
        "                      x_val.shape[2], \n",
        "                      1)\n",
        "x_test = x_test.reshape(x_test.shape[0], \n",
        "                        x_test.shape[1], \n",
        "                        x_test.shape[2], \n",
        "                        1)\n",
        "print(x_train.shape)\n",
        "print(x_val.shape)\n",
        "print(x_test.shape)"
      ],
      "metadata": {
        "colab": {
          "base_uri": "https://localhost:8080/"
        },
        "id": "p0KlX7-FSg4p",
        "outputId": "5d1b9c8b-1812-42ac-8b8b-c097c9b487d0"
      },
      "execution_count": null,
      "outputs": [
        {
          "output_type": "stream",
          "name": "stdout",
          "text": [
            "(77548, 16, 16, 1)\n",
            "(9659, 16, 16, 1)\n",
            "(9649, 16, 16, 1)\n"
          ]
        }
      ]
    },
    {
      "cell_type": "code",
      "source": [
        "# Input shape for CNN is size of MFCC of 1 sample\n",
        "sample_shape = x_test.shape[1:]\n",
        "print(sample_shape)"
      ],
      "metadata": {
        "colab": {
          "base_uri": "https://localhost:8080/"
        },
        "id": "EFP2Q2oPSjve",
        "outputId": "43bf3339-33b4-4a6a-a0bd-0e96d14e17c7"
      },
      "execution_count": null,
      "outputs": [
        {
          "output_type": "stream",
          "name": "stdout",
          "text": [
            "(16, 16, 1)\n"
          ]
        }
      ]
    },
    {
      "cell_type": "code",
      "source": [
        "model = models.Sequential()\n"
      ],
      "metadata": {
        "id": "ZqhYr7ezSjsG"
      },
      "execution_count": null,
      "outputs": []
    },
    {
      "cell_type": "code",
      "source": [
        "# Build model\n",
        "# Based on: https://www.geeksforgeeks.org/python-image-classification-using-keras/\n",
        "# model = models.Sequential()\n",
        "model.add(layers.Conv2D(32, \n",
        "                        (2, 2), \n",
        "                        activation='relu',\n",
        "                        input_shape=sample_shape))\n",
        "model.add(layers.MaxPooling2D(pool_size=(2, 2)))\n",
        "\n",
        "model.add(layers.Conv2D(32, (2, 2), activation='relu'))\n",
        "model.add(layers.MaxPooling2D(pool_size=(2, 2)))\n",
        "\n",
        "model.add(layers.Conv2D(64, (2, 2), activation='relu'))\n",
        "model.add(layers.MaxPooling2D(pool_size=(2, 2)))\n",
        "\n",
        "# Classifier\n",
        "model.add(layers.Flatten())\n",
        "model.add(layers.Dense(64, activation='relu'))\n",
        "model.add(layers.Dropout(0.5))\n",
        "model.add(layers.Dense(6, activation='softmax'))"
      ],
      "metadata": {
        "id": "zZM6CFb9Sjph"
      },
      "execution_count": null,
      "outputs": []
    },
    {
      "cell_type": "code",
      "source": [
        "x_train.shape"
      ],
      "metadata": {
        "colab": {
          "base_uri": "https://localhost:8080/"
        },
        "id": "tweGOD2OTaRF",
        "outputId": "eba21ee2-58eb-4d84-b0f2-faa4f8157634"
      },
      "execution_count": null,
      "outputs": [
        {
          "output_type": "execute_result",
          "data": {
            "text/plain": [
              "(77548, 16, 16, 1)"
            ]
          },
          "metadata": {},
          "execution_count": 38
        }
      ]
    },
    {
      "cell_type": "code",
      "source": [
        "y_train.reshape(-1,1)"
      ],
      "metadata": {
        "colab": {
          "base_uri": "https://localhost:8080/"
        },
        "id": "H-L2uOgGTGaT",
        "outputId": "752b7225-765f-498f-f4fc-bcf1dbeb9bb1"
      },
      "execution_count": null,
      "outputs": [
        {
          "output_type": "execute_result",
          "data": {
            "text/plain": [
              "array([[2.],\n",
              "       [0.],\n",
              "       [0.],\n",
              "       ...,\n",
              "       [0.],\n",
              "       [0.],\n",
              "       [0.]])"
            ]
          },
          "metadata": {},
          "execution_count": 39
        }
      ]
    },
    {
      "cell_type": "code",
      "source": [
        "# Display model\n",
        "model.summary()"
      ],
      "metadata": {
        "colab": {
          "base_uri": "https://localhost:8080/"
        },
        "id": "H0XReC1PSjm0",
        "outputId": "d4b736da-e736-4a8b-e7f6-b9d56c450551"
      },
      "execution_count": null,
      "outputs": [
        {
          "output_type": "stream",
          "name": "stdout",
          "text": [
            "Model: \"sequential_1\"\n",
            "_________________________________________________________________\n",
            " Layer (type)                Output Shape              Param #   \n",
            "=================================================================\n",
            " conv2d_3 (Conv2D)           (None, 15, 15, 32)        160       \n",
            "                                                                 \n",
            " max_pooling2d_3 (MaxPooling  (None, 7, 7, 32)         0         \n",
            " 2D)                                                             \n",
            "                                                                 \n",
            " conv2d_4 (Conv2D)           (None, 6, 6, 32)          4128      \n",
            "                                                                 \n",
            " max_pooling2d_4 (MaxPooling  (None, 3, 3, 32)         0         \n",
            " 2D)                                                             \n",
            "                                                                 \n",
            " conv2d_5 (Conv2D)           (None, 2, 2, 64)          8256      \n",
            "                                                                 \n",
            " max_pooling2d_5 (MaxPooling  (None, 1, 1, 64)         0         \n",
            " 2D)                                                             \n",
            "                                                                 \n",
            " flatten_1 (Flatten)         (None, 64)                0         \n",
            "                                                                 \n",
            " dense_2 (Dense)             (None, 64)                4160      \n",
            "                                                                 \n",
            " dropout_1 (Dropout)         (None, 64)                0         \n",
            "                                                                 \n",
            " dense_3 (Dense)             (None, 6)                 390       \n",
            "                                                                 \n",
            "=================================================================\n",
            "Total params: 17,094\n",
            "Trainable params: 17,094\n",
            "Non-trainable params: 0\n",
            "_________________________________________________________________\n"
          ]
        }
      ]
    },
    {
      "cell_type": "code",
      "source": [
        "# Add training parameters to model\n",
        "model.compile(loss='sparse_categorical_crossentropy', \n",
        "              optimizer='rmsprop', \n",
        "              metrics=['acc'])"
      ],
      "metadata": {
        "id": "fUPOdYulSjj_"
      },
      "execution_count": null,
      "outputs": []
    },
    {
      "cell_type": "code",
      "source": [
        "# Train\n",
        "history = model.fit(x_train, \n",
        "                    y_train, \n",
        "                    epochs=30, \n",
        "                    batch_size=100, \n",
        "                    validation_data=(x_val, y_val))"
      ],
      "metadata": {
        "colab": {
          "base_uri": "https://localhost:8080/"
        },
        "id": "ZRSiW6oIS5_E",
        "outputId": "1ebbeee6-e56b-46c8-b509-adb08c4598d3"
      },
      "execution_count": null,
      "outputs": [
        {
          "output_type": "stream",
          "name": "stdout",
          "text": [
            "Epoch 1/30\n",
            "776/776 [==============================] - 4s 5ms/step - loss: 0.4966 - acc: 0.8722 - val_loss: 0.3668 - val_acc: 0.8920\n",
            "Epoch 2/30\n",
            "776/776 [==============================] - 3s 4ms/step - loss: 0.3209 - acc: 0.9051 - val_loss: 0.2599 - val_acc: 0.9222\n",
            "Epoch 3/30\n",
            "776/776 [==============================] - 4s 5ms/step - loss: 0.2664 - acc: 0.9210 - val_loss: 0.2948 - val_acc: 0.9183\n",
            "Epoch 4/30\n",
            "776/776 [==============================] - 4s 5ms/step - loss: 0.2390 - acc: 0.9286 - val_loss: 0.2440 - val_acc: 0.9272\n",
            "Epoch 5/30\n",
            "776/776 [==============================] - 4s 5ms/step - loss: 0.2221 - acc: 0.9339 - val_loss: 0.2202 - val_acc: 0.9339\n",
            "Epoch 6/30\n",
            "776/776 [==============================] - 3s 4ms/step - loss: 0.2114 - acc: 0.9374 - val_loss: 0.2058 - val_acc: 0.9411\n",
            "Epoch 7/30\n",
            "776/776 [==============================] - 4s 5ms/step - loss: 0.2036 - acc: 0.9398 - val_loss: 0.2024 - val_acc: 0.9420\n",
            "Epoch 8/30\n",
            "776/776 [==============================] - 3s 4ms/step - loss: 0.2022 - acc: 0.9409 - val_loss: 0.2033 - val_acc: 0.9378\n",
            "Epoch 9/30\n",
            "776/776 [==============================] - 4s 5ms/step - loss: 0.1991 - acc: 0.9412 - val_loss: 0.1958 - val_acc: 0.9423\n",
            "Epoch 10/30\n",
            "776/776 [==============================] - 4s 5ms/step - loss: 0.2021 - acc: 0.9411 - val_loss: 0.2135 - val_acc: 0.9392\n",
            "Epoch 11/30\n",
            "776/776 [==============================] - 4s 5ms/step - loss: 0.2058 - acc: 0.9415 - val_loss: 0.2552 - val_acc: 0.9367\n",
            "Epoch 12/30\n",
            "776/776 [==============================] - 3s 4ms/step - loss: 0.2097 - acc: 0.9401 - val_loss: 0.2133 - val_acc: 0.9351\n",
            "Epoch 13/30\n",
            "776/776 [==============================] - 4s 5ms/step - loss: 0.2119 - acc: 0.9385 - val_loss: 0.2118 - val_acc: 0.9380\n",
            "Epoch 14/30\n",
            "776/776 [==============================] - 3s 4ms/step - loss: 0.2177 - acc: 0.9382 - val_loss: 0.3419 - val_acc: 0.9238\n",
            "Epoch 15/30\n",
            "776/776 [==============================] - 4s 5ms/step - loss: 0.2186 - acc: 0.9372 - val_loss: 0.2524 - val_acc: 0.9389\n",
            "Epoch 16/30\n",
            "776/776 [==============================] - 4s 5ms/step - loss: 0.2278 - acc: 0.9367 - val_loss: 0.2410 - val_acc: 0.9319\n",
            "Epoch 17/30\n",
            "776/776 [==============================] - 4s 5ms/step - loss: 0.2212 - acc: 0.9372 - val_loss: 0.2792 - val_acc: 0.9326\n",
            "Epoch 18/30\n",
            "776/776 [==============================] - 4s 5ms/step - loss: 0.2289 - acc: 0.9369 - val_loss: 0.2776 - val_acc: 0.9315\n",
            "Epoch 19/30\n",
            "776/776 [==============================] - 3s 4ms/step - loss: 0.2283 - acc: 0.9376 - val_loss: 0.2664 - val_acc: 0.9362\n",
            "Epoch 20/30\n",
            "776/776 [==============================] - 4s 5ms/step - loss: 0.2260 - acc: 0.9382 - val_loss: 0.3179 - val_acc: 0.9338\n",
            "Epoch 21/30\n",
            "776/776 [==============================] - 3s 4ms/step - loss: 0.2329 - acc: 0.9378 - val_loss: 0.4379 - val_acc: 0.9301\n",
            "Epoch 22/30\n",
            "776/776 [==============================] - 3s 4ms/step - loss: 0.2319 - acc: 0.9363 - val_loss: 0.3528 - val_acc: 0.9152\n",
            "Epoch 23/30\n",
            "776/776 [==============================] - 3s 4ms/step - loss: 0.2573 - acc: 0.9383 - val_loss: 0.2823 - val_acc: 0.9288\n",
            "Epoch 24/30\n",
            "776/776 [==============================] - 4s 5ms/step - loss: 0.2401 - acc: 0.9368 - val_loss: 0.3690 - val_acc: 0.9287\n",
            "Epoch 25/30\n",
            "776/776 [==============================] - 3s 4ms/step - loss: 0.2433 - acc: 0.9372 - val_loss: 0.2733 - val_acc: 0.9267\n",
            "Epoch 26/30\n",
            "776/776 [==============================] - 4s 5ms/step - loss: 0.2563 - acc: 0.9376 - val_loss: 0.2719 - val_acc: 0.9326\n",
            "Epoch 27/30\n",
            "776/776 [==============================] - 4s 5ms/step - loss: 0.2396 - acc: 0.9370 - val_loss: 0.3643 - val_acc: 0.9300\n",
            "Epoch 28/30\n",
            "776/776 [==============================] - 4s 5ms/step - loss: 0.2454 - acc: 0.9368 - val_loss: 0.2625 - val_acc: 0.9342\n",
            "Epoch 29/30\n",
            "776/776 [==============================] - 4s 5ms/step - loss: 0.2560 - acc: 0.9372 - val_loss: 0.2854 - val_acc: 0.9413\n",
            "Epoch 30/30\n",
            "776/776 [==============================] - 4s 5ms/step - loss: 0.2461 - acc: 0.9382 - val_loss: 0.3522 - val_acc: 0.9332\n"
          ]
        }
      ]
    },
    {
      "cell_type": "code",
      "source": [
        "# Plot results\n",
        "import matplotlib.pyplot as plt\n",
        "\n",
        "acc = history.history['acc']\n",
        "val_acc = history.history['val_acc']\n",
        "loss = history.history['loss']\n",
        "val_loss = history.history['val_loss']\n",
        "\n",
        "epochs = range(1, len(acc) + 1)\n",
        "\n",
        "plt.plot(epochs, acc, 'bo', label='Training acc')\n",
        "plt.plot(epochs, val_acc, 'b', label='Validation acc')\n",
        "plt.title('Training and validation accuracy')\n",
        "plt.legend()\n",
        "\n",
        "plt.figure()\n",
        "\n",
        "plt.plot(epochs, loss, 'bo', label='Training loss')\n",
        "plt.plot(epochs, val_loss, 'b', label='Validation loss')\n",
        "plt.title('Training and validation loss')\n",
        "plt.legend()\n",
        "\n",
        "plt.show()"
      ],
      "metadata": {
        "colab": {
          "base_uri": "https://localhost:8080/",
          "height": 545
        },
        "id": "B-DsEoS1Sjhf",
        "outputId": "a7c63da8-24a2-45ed-f38e-64d25edda798"
      },
      "execution_count": null,
      "outputs": [
        {
          "output_type": "display_data",
          "data": {
            "text/plain": [
              "<Figure size 432x288 with 1 Axes>"
            ],
            "image/png": "[encoded data removed]"
          },
          "metadata": {
            "needs_background": "light"
          }
        },
        {
          "output_type": "display_data",
          "data": {
            "text/plain": [
              "<Figure size 432x288 with 1 Axes>"
            ],
            "image/png": "[encoded data removed]"
          },
          "metadata": {
            "needs_background": "light"
          }
        }
      ]
    },
    {
      "cell_type": "code",
      "source": [
        "# Save the model as a file\n",
        "models.save_model(model, model_filename)"
      ],
      "metadata": {
        "id": "2I-26bJoSjbZ"
      },
      "execution_count": null,
      "outputs": []
    },
    {
      "cell_type": "code",
      "source": [
        "for i in range(0, 110):\n",
        "    print(' i:',i, 'Answer:', y_test[i], ' Prediction:', model.predict(np.expand_dims(x_test[i], 0)))"
      ],
      "metadata": {
        "colab": {
          "base_uri": "https://localhost:8080/"
        },
        "id": "Jk_GjZpKSiaE",
        "outputId": "2b0b1d69-47b6-4bd2-82fc-9bf8db2c9400"
      },
      "execution_count": null,
      "outputs": [
        {
          "output_type": "stream",
          "name": "stdout",
          "text": [
            " i: 0 Answer: [0.]  Prediction: [[0.9213007  0.01108923 0.02051378 0.00337046 0.00884287 0.03488306]]\n",
            " i: 1 Answer: [0.]  Prediction: [[9.7327435e-01 3.3565285e-03 6.3474807e-03 8.6973212e-04 1.9147131e-03\n",
            "  1.4237153e-02]]\n",
            " i: 2 Answer: [0.]  Prediction: [[9.7207379e-01 2.1992177e-03 4.2024208e-03 3.9785504e-04 8.1323192e-04\n",
            "  2.0313511e-02]]\n",
            " i: 3 Answer: [0.]  Prediction: [[9.3822920e-01 2.1138730e-02 1.0027214e-02 5.5843229e-05 2.9971929e-02\n",
            "  5.7704333e-04]]\n",
            " i: 4 Answer: [0.]  Prediction: [[9.8893309e-01 3.0144502e-03 5.5571727e-04 1.4725455e-05 7.4818917e-03\n",
            "  1.1626075e-07]]\n",
            " i: 5 Answer: [0.]  Prediction: [[9.8294616e-01 1.9474684e-11 9.8068838e-11 1.6877810e-02 1.0833565e-08\n",
            "  1.7597094e-04]]\n",
            " i: 6 Answer: [0.]  Prediction: [[0.9230439  0.00553639 0.01219514 0.00396644 0.0039065  0.05135163]]\n",
            " i: 7 Answer: [0.]  Prediction: [[9.9777716e-01 2.2121142e-03 7.3761817e-06 4.3657817e-08 3.3686122e-06\n",
            "  9.9016884e-09]]\n",
            " i: 8 Answer: [0.]  Prediction: [[5.5439299e-01 6.2364265e-06 8.7852314e-08 4.4532457e-01 2.7613211e-04\n",
            "  5.5293761e-09]]\n",
            " i: 9 Answer: [0.]  Prediction: [[0.9729274  0.00395108 0.00796235 0.00150593 0.00114192 0.0125114 ]]\n",
            " i: 10 Answer: [0.]  Prediction: [[0.9323453  0.01357062 0.01852242 0.00218984 0.01309586 0.02027598]]\n",
            " i: 11 Answer: [0.]  Prediction: [[9.9753439e-01 1.2674192e-03 8.7948010e-04 7.1145354e-05 8.9220266e-05\n",
            "  1.5840353e-04]]\n",
            " i: 12 Answer: [0.]  Prediction: [[9.9971777e-01 2.0379658e-04 7.7818011e-05 8.8304308e-11 5.4491920e-07\n",
            "  1.4727627e-08]]\n",
            " i: 13 Answer: [0.]  Prediction: [[1.0000000e+00 3.5461032e-09 6.4893702e-10 1.1887351e-11 4.5251502e-12\n",
            "  8.6887865e-11]]\n",
            " i: 14 Answer: [0.]  Prediction: [[9.4975024e-01 1.3227716e-02 3.4908865e-02 1.2196486e-04 1.7916907e-03\n",
            "  1.9951834e-04]]\n",
            " i: 15 Answer: [0.]  Prediction: [[0.9277618  0.00941146 0.01783069 0.00316223 0.00665196 0.03518189]]\n",
            " i: 16 Answer: [0.]  Prediction: [[9.9410409e-01 1.0847211e-03 1.2871282e-03 1.3671009e-05 1.8453875e-04\n",
            "  3.3258356e-03]]\n",
            " i: 17 Answer: [0.]  Prediction: [[0.95607895 0.00812649 0.01145158 0.0022365  0.0095563  0.01255017]]\n",
            " i: 18 Answer: [0.]  Prediction: [[9.5434654e-01 5.4994375e-03 1.3307668e-02 5.7076290e-04 1.5096089e-03\n",
            "  2.4766037e-02]]\n",
            " i: 19 Answer: [0.]  Prediction: [[9.7188479e-01 1.6056441e-07 2.5552094e-07 2.8068243e-02 2.6751206e-07\n",
            "  4.6324851e-05]]\n",
            " i: 20 Answer: [0.]  Prediction: [[9.2916369e-01 7.0773989e-02 5.2917509e-05 2.9375634e-11 9.2724049e-06\n",
            "  4.3698573e-11]]\n",
            " i: 21 Answer: [0.]  Prediction: [[0.9333618  0.01610065 0.02267641 0.00171949 0.01468591 0.01145568]]\n",
            " i: 22 Answer: [0.]  Prediction: [[9.7063524e-01 2.7304156e-02 1.8704826e-03 4.0458325e-08 1.8964391e-04\n",
            "  5.1329914e-07]]\n",
            " i: 23 Answer: [0.]  Prediction: [[9.64734316e-01 8.98036640e-03 1.18651055e-02 2.36690466e-04\n",
            "  6.56118710e-03 7.62232998e-03]]\n",
            " i: 24 Answer: [0.]  Prediction: [[9.9245524e-01 2.4774438e-03 1.2118319e-03 2.1910295e-03 8.5891556e-04\n",
            "  8.0553530e-04]]\n",
            " i: 25 Answer: [0.]  Prediction: [[9.1909909e-01 3.4978393e-02 3.5630304e-02 6.9435213e-05 8.7710619e-03\n",
            "  1.4517696e-03]]\n",
            " i: 26 Answer: [0.]  Prediction: [[0.8916366  0.00385849 0.01186842 0.00323382 0.00278817 0.08661452]]\n",
            " i: 27 Answer: [0.]  Prediction: [[9.5236206e-01 1.5809605e-02 2.2958240e-02 1.0799139e-04 5.7114675e-03\n",
            "  3.0506887e-03]]\n",
            " i: 28 Answer: [0.]  Prediction: [[9.9465346e-01 2.9818921e-03 1.5457376e-03 3.6835252e-05 2.7125730e-04\n",
            "  5.1082362e-04]]\n",
            " i: 29 Answer: [0.]  Prediction: [[0.90213203 0.02406556 0.02838284 0.00134317 0.03459939 0.00947703]]\n",
            " i: 30 Answer: [2.]  Prediction: [[8.2667494e-01 6.0094964e-02 1.0732973e-01 2.2923246e-05 4.4169961e-03\n",
            "  1.4604278e-03]]\n",
            " i: 31 Answer: [0.]  Prediction: [[9.50553477e-01 1.19128199e-02 1.67676751e-02 7.49596220e-04\n",
            "  8.07195995e-03 1.19444905e-02]]\n",
            " i: 32 Answer: [0.]  Prediction: [[0.90710956 0.01102576 0.02175659 0.00450373 0.00889272 0.04671163]]\n",
            " i: 33 Answer: [0.]  Prediction: [[9.9703419e-01 2.8260630e-03 1.1809546e-04 2.0489450e-07 2.1209160e-05\n",
            "  2.9173862e-07]]\n",
            " i: 34 Answer: [0.]  Prediction: [[8.5433084e-01 2.7352927e-04 1.6339816e-03 1.8919968e-04 1.3154602e-04\n",
            "  1.4344089e-01]]\n",
            " i: 35 Answer: [0.]  Prediction: [[9.9934870e-01 5.3794926e-04 4.2640819e-05 1.8159613e-05 4.2774860e-05\n",
            "  9.7677839e-06]]\n",
            " i: 36 Answer: [0.]  Prediction: [[9.9853706e-01 1.2612265e-03 1.7187808e-04 5.3117460e-06 1.9933350e-05\n",
            "  4.5617990e-06]]\n",
            " i: 37 Answer: [0.]  Prediction: [[0.9072268  0.0130263  0.02715218 0.00332369 0.01087431 0.0383967 ]]\n",
            " i: 38 Answer: [0.]  Prediction: [[9.5418829e-01 3.2658095e-04 1.2283332e-03 9.0798119e-04 1.6887899e-04\n",
            "  4.3179989e-02]]\n",
            " i: 39 Answer: [0.]  Prediction: [[9.9987960e-01 1.0321697e-05 6.5039917e-06 2.3070177e-07 1.0672049e-06\n",
            "  1.0209957e-04]]\n",
            " i: 40 Answer: [0.]  Prediction: [[9.9955541e-01 8.4573796e-05 4.4262924e-05 4.7203397e-07 2.7072699e-06\n",
            "  3.1259871e-04]]\n",
            " i: 41 Answer: [0.]  Prediction: [[8.94634068e-01 5.83058398e-04 4.55912761e-03 2.45172032e-05\n",
            "  6.92428002e-05 1.00129955e-01]]\n",
            " i: 42 Answer: [0.]  Prediction: [[0.91330063 0.01141263 0.02103108 0.00440222 0.00994189 0.03991161]]\n",
            " i: 43 Answer: [0.]  Prediction: [[9.9475068e-01 4.0040421e-04 1.8314709e-03 1.8646762e-05 6.8999179e-05\n",
            "  2.9297033e-03]]\n",
            " i: 44 Answer: [0.]  Prediction: [[0.9417403  0.00529379 0.01124885 0.00277416 0.00314255 0.03580035]]\n",
            " i: 45 Answer: [0.]  Prediction: [[9.40046370e-01 1.43265249e-02 2.27254014e-02 6.23411499e-04\n",
            "  1.13994675e-02 1.08788637e-02]]\n",
            " i: 46 Answer: [0.]  Prediction: [[0.9649938  0.00103115 0.00224528 0.00228367 0.00136205 0.028084  ]]\n",
            " i: 47 Answer: [0.]  Prediction: [[0.9319081  0.00960171 0.01856891 0.0027376  0.00573886 0.03144485]]\n",
            " i: 48 Answer: [0.]  Prediction: [[8.0219823e-01 4.7864083e-05 6.0080120e-06 1.7051394e-01 2.7233828e-02\n",
            "  1.2503291e-10]]\n",
            " i: 49 Answer: [0.]  Prediction: [[9.86680329e-01 4.55290498e-03 6.02527754e-03 1.21168756e-04\n",
            "  4.65058023e-04 2.15535215e-03]]\n",
            " i: 50 Answer: [1.]  Prediction: [[1.06199165e-08 1.00000000e+00 8.05622726e-14 0.00000000e+00\n",
            "  1.47150682e-24 0.00000000e+00]]\n",
            " i: 51 Answer: [0.]  Prediction: [[0.9141543  0.01240433 0.02325977 0.00405718 0.00942515 0.03669928]]\n",
            " i: 52 Answer: [2.]  Prediction: [[1.4537849e-02 9.2895079e-06 9.8545283e-01 2.5640143e-19 2.5537411e-11\n",
            "  5.1514812e-15]]\n",
            " i: 53 Answer: [0.]  Prediction: [[9.9761921e-01 8.1675948e-04 4.8753101e-04 6.4104452e-04 8.6355263e-05\n",
            "  3.4903747e-04]]\n",
            " i: 54 Answer: [0.]  Prediction: [[9.4597262e-01 7.8936145e-03 1.7684326e-02 9.4264280e-04 4.1464115e-03\n",
            "  2.3360439e-02]]\n",
            " i: 55 Answer: [0.]  Prediction: [[0.92030865 0.0087365  0.02109986 0.00363029 0.00462861 0.04159608]]\n",
            " i: 56 Answer: [0.]  Prediction: [[9.7580916e-01 4.3004281e-03 7.3167994e-03 3.1577342e-04 6.4884539e-04\n",
            "  1.1608942e-02]]\n",
            " i: 57 Answer: [0.]  Prediction: [[0.95578927 0.00353308 0.00311253 0.02713216 0.00331168 0.00712122]]\n",
            " i: 58 Answer: [0.]  Prediction: [[9.4955671e-01 4.9291067e-02 9.4019959e-04 2.4448570e-09 2.1200700e-04\n",
            "  4.7592245e-08]]\n",
            " i: 59 Answer: [5.]  Prediction: [[9.0686776e-02 9.2441194e-12 5.2967947e-10 6.3487354e-11 4.3038620e-12\n",
            "  9.0931320e-01]]\n",
            " i: 60 Answer: [0.]  Prediction: [[9.6299785e-01 1.2121539e-03 2.6965900e-03 1.9728232e-02 9.2167273e-04\n",
            "  1.2443455e-02]]\n",
            " i: 61 Answer: [0.]  Prediction: [[9.9995399e-01 4.5972945e-05 5.5745553e-10 3.4802478e-13 7.1625006e-10\n",
            "  2.7303366e-15]]\n",
            " i: 62 Answer: [0.]  Prediction: [[7.6466095e-01 1.2847485e-09 4.9102749e-09 2.3533665e-01 8.7571692e-07\n",
            "  1.5838519e-06]]\n",
            " i: 63 Answer: [0.]  Prediction: [[0.92172974 0.01310768 0.02269785 0.00278892 0.01104749 0.02862826]]\n",
            " i: 64 Answer: [1.]  Prediction: [[9.7395814e-10 1.0000000e+00 1.8671986e-15 0.0000000e+00 9.2249208e-30\n",
            "  0.0000000e+00]]\n",
            " i: 65 Answer: [0.]  Prediction: [[0.94564724 0.00870127 0.0199821  0.00226015 0.00629428 0.0171149 ]]\n",
            " i: 66 Answer: [0.]  Prediction: [[9.6709955e-01 1.4163869e-03 2.8068358e-03 4.1890144e-03 7.5389934e-04\n",
            "  2.3734219e-02]]\n",
            " i: 67 Answer: [0.]  Prediction: [[8.8592458e-01 5.4602620e-12 1.3444844e-10 8.9936600e-09 1.8686077e-11\n",
            "  1.1407539e-01]]\n",
            " i: 68 Answer: [0.]  Prediction: [[9.6840847e-01 1.0301533e-02 1.1175871e-02 1.5716240e-04 2.8348800e-03\n",
            "  7.1220193e-03]]\n",
            " i: 69 Answer: [0.]  Prediction: [[9.9973363e-01 1.9731773e-04 6.3905798e-05 2.8744706e-08 4.4576032e-06\n",
            "  7.0554347e-07]]\n",
            " i: 70 Answer: [3.]  Prediction: [[3.1453067e-01 6.5520922e-08 1.4409291e-07 6.8539310e-01 7.5979115e-05\n",
            "  2.5030387e-09]]\n",
            " i: 71 Answer: [0.]  Prediction: [[9.9918944e-01 7.8409357e-04 2.2864615e-05 6.4052749e-08 3.4414761e-06\n",
            "  1.0341431e-07]]\n",
            " i: 72 Answer: [0.]  Prediction: [[0.884416   0.02288426 0.05119083 0.0020312  0.02508358 0.01439418]]\n",
            " i: 73 Answer: [0.]  Prediction: [[7.7528769e-01 1.8696471e-06 5.6968966e-06 2.2459893e-01 1.0131483e-04\n",
            "  4.5481520e-06]]\n",
            " i: 74 Answer: [0.]  Prediction: [[9.9972600e-01 1.9906853e-04 5.7867310e-05 2.5039262e-07 7.2424391e-06\n",
            "  9.5875475e-06]]\n",
            " i: 75 Answer: [0.]  Prediction: [[0.95165104 0.00214181 0.00540503 0.00225187 0.0012398  0.03731038]]\n",
            " i: 76 Answer: [0.]  Prediction: [[9.9985600e-01 9.1152506e-05 4.4279608e-05 1.3986750e-06 6.1577538e-07\n",
            "  6.5760432e-06]]\n",
            " i: 77 Answer: [0.]  Prediction: [[0.9477493  0.00687852 0.0126061  0.0018072  0.00300735 0.0279516 ]]\n",
            " i: 78 Answer: [0.]  Prediction: [[9.8179489e-01 2.8374163e-04 4.8043969e-04 1.0901319e-02 4.5931246e-04\n",
            "  6.0802028e-03]]\n",
            " i: 79 Answer: [0.]  Prediction: [[8.5519719e-01 2.3350745e-02 1.1481687e-01 1.6532956e-04 4.9095675e-03\n",
            "  1.5603726e-03]]\n",
            " i: 80 Answer: [0.]  Prediction: [[9.5974678e-01 2.8484138e-02 1.0502631e-02 2.3951804e-07 1.2468543e-03\n",
            "  1.9301640e-05]]\n",
            " i: 81 Answer: [5.]  Prediction: [[2.4445651e-05 2.2770455e-29 4.4183375e-27 8.8832541e-23 7.4873716e-27\n",
            "  9.9997556e-01]]\n",
            " i: 82 Answer: [0.]  Prediction: [[9.8988897e-01 3.0031840e-03 4.1249502e-03 7.5752861e-05 1.7657618e-04\n",
            "  2.7305784e-03]]\n",
            " i: 83 Answer: [0.]  Prediction: [[0.9235325  0.0086809  0.02140362 0.00749982 0.0252972  0.01358605]]\n",
            " i: 84 Answer: [0.]  Prediction: [[9.8056865e-01 8.0362689e-03 1.0529165e-02 1.4438690e-05 3.2802374e-04\n",
            "  5.2344642e-04]]\n",
            " i: 85 Answer: [0.]  Prediction: [[0.8898467  0.00825496 0.02281521 0.00465484 0.00507766 0.06935056]]\n",
            " i: 86 Answer: [0.]  Prediction: [[8.2544535e-01 2.1380107e-07 3.0076362e-06 6.0883117e-06 2.8298876e-07\n",
            "  1.7454509e-01]]\n",
            " i: 87 Answer: [0.]  Prediction: [[0.8845385  0.01006445 0.03499994 0.01645701 0.01599859 0.03794156]]\n",
            " i: 88 Answer: [0.]  Prediction: [[7.9003328e-01 2.4067357e-02 1.8342207e-01 3.0666524e-06 2.2769442e-03\n",
            "  1.9737978e-04]]\n",
            " i: 89 Answer: [0.]  Prediction: [[0.91108    0.01084796 0.02418859 0.0062272  0.00814309 0.03951313]]\n",
            " i: 90 Answer: [0.]  Prediction: [[9.5045149e-01 4.9468938e-02 6.5535532e-05 1.7273606e-10 1.4015027e-05\n",
            "  1.7635476e-10]]\n",
            " i: 91 Answer: [0.]  Prediction: [[9.2716348e-01 3.5455287e-07 2.2615693e-06 6.1367075e-07 2.6323593e-07\n",
            "  7.2833054e-02]]\n",
            " i: 92 Answer: [0.]  Prediction: [[0.90573764 0.02092711 0.04873123 0.0025558  0.01555452 0.00649366]]\n",
            " i: 93 Answer: [0.]  Prediction: [[0.89840174 0.01094067 0.02768886 0.00564968 0.00524843 0.05207063]]\n",
            " i: 94 Answer: [0.]  Prediction: [[9.42510664e-01 3.84281836e-02 1.11669805e-02 3.31659612e-06\n",
            "  7.80449389e-03 8.62746165e-05]]\n",
            " i: 95 Answer: [0.]  Prediction: [[0.95623076 0.0049429  0.00932478 0.00814605 0.00381443 0.01754106]]\n",
            " i: 96 Answer: [0.]  Prediction: [[8.7013692e-01 1.2209377e-01 6.3256156e-03 3.0959826e-09 1.4436287e-03\n",
            "  5.2272870e-08]]\n",
            " i: 97 Answer: [0.]  Prediction: [[9.9934715e-01 3.7668756e-04 1.5899632e-04 6.0879511e-06 1.6864335e-05\n",
            "  9.4121649e-05]]\n",
            " i: 98 Answer: [0.]  Prediction: [[0.90650475 0.01867842 0.02790261 0.00310196 0.02029178 0.02352055]]\n",
            " i: 99 Answer: [0.]  Prediction: [[9.4258791e-01 1.8419859e-04 8.4472925e-04 1.2076559e-04 1.4445014e-04\n",
            "  5.6118015e-02]]\n",
            " i: 100 Answer: [0.]  Prediction: [[9.5125329e-01 5.4549873e-03 1.1267673e-02 8.4705994e-04 2.2395975e-03\n",
            "  2.8937263e-02]]\n",
            " i: 101 Answer: [0.]  Prediction: [[0.95340616 0.00616355 0.01110068 0.00313412 0.00731605 0.01887944]]\n",
            " i: 102 Answer: [0.]  Prediction: [[0.87557864 0.02257382 0.05034639 0.00303228 0.01775695 0.03071194]]\n",
            " i: 103 Answer: [0.]  Prediction: [[9.9987960e-01 1.2039083e-04 7.6052160e-09 4.2352816e-13 2.6092020e-09\n",
            "  5.0280032e-14]]\n",
            " i: 104 Answer: [0.]  Prediction: [[9.8671931e-01 6.5169912e-03 6.0525127e-03 7.8715284e-06 2.7035887e-04\n",
            "  4.3306968e-04]]\n",
            " i: 105 Answer: [0.]  Prediction: [[8.1168288e-01 4.1986685e-05 4.5867474e-04 6.0884424e-05 2.3162429e-05\n",
            "  1.8773234e-01]]\n",
            " i: 106 Answer: [0.]  Prediction: [[0.8953572  0.01125356 0.02762814 0.00317739 0.00828333 0.05430032]]\n",
            " i: 107 Answer: [0.]  Prediction: [[0.90201163 0.00771828 0.01858551 0.00518872 0.00411091 0.06238498]]\n",
            " i: 108 Answer: [0.]  Prediction: [[9.8921341e-01 7.0887934e-03 2.6593332e-03 6.1422528e-05 9.6675125e-04\n",
            "  1.0249299e-05]]\n",
            " i: 109 Answer: [0.]  Prediction: [[9.0179497e-01 1.6358573e-06 2.8473785e-06 9.7976990e-02 1.6843330e-04\n",
            "  5.5114207e-05]]\n"
          ]
        }
      ]
    },
    {
      "cell_type": "code",
      "source": [
        "y_test[64]"
      ],
      "metadata": {
        "colab": {
          "base_uri": "https://localhost:8080/"
        },
        "id": "0ZogSttJU4S5",
        "outputId": "dfdc1811-e126-4e4d-da42-5e7c87ac1bd1"
      },
      "execution_count": null,
      "outputs": [
        {
          "output_type": "execute_result",
          "data": {
            "text/plain": [
              "array([1.])"
            ]
          },
          "metadata": {},
          "execution_count": 54
        }
      ]
    },
    {
      "cell_type": "code",
      "source": [
        ""
      ],
      "metadata": {
        "id": "MO1K3UD1U72l"
      },
      "execution_count": null,
      "outputs": []
    }
  ]
}